{
 "cells": [
  {
   "cell_type": "code",
   "execution_count": 3,
   "id": "06e8029b",
   "metadata": {},
   "outputs": [],
   "source": [
    "import matplotlib.pyplot as plt\n",
    "import calplot\n",
    "import calmap\n",
    "import csv\n",
    "import sklearn\n",
    "import pickle\n",
    "from wordcloud import WordCloud\n",
    "import pandas as pd\n",
    "import numpy as np\n",
    "import nltk\n",
    "from nltk.corpus import stopwords\n",
    "from sklearn.feature_extraction.text import CountVectorizer, TfidfTransformer\n",
    "from sklearn.tree import DecisionTreeClassifier\n",
    "from sklearn.model_selection import GridSearchCV,train_test_split,StratifiedKFold,cross_val_score,learning_curve\n",
    "from collections import Counter\n",
    "from sklearn.naive_bayes import MultinomialNB\n",
    "from sklearn.metrics import accuracy_score\n",
    "from sklearn.metrics import classification_report\n",
    "import os\n",
    "from nltk.corpus import words \n",
    "from IPython.display import HTML, display\n",
    "from datasketch import MinHash, MinHashLSH\n",
    "import pandas as pd\n",
    "from sklearn.model_selection import train_test_split\n",
    "from datasketch import MinHash, MinHashLSH"
   ]
  },
  {
   "cell_type": "markdown",
   "id": "8cab7c2b",
   "metadata": {},
   "source": [
    "<h2>Overview of the data and data source.</h2> "
   ]
  },
  {
   "cell_type": "markdown",
   "id": "602b7ffd",
   "metadata": {},
   "source": [
    "This dataset contains and excert of Spam and Ham E-Mails from the Enron Corpus. \n",
    "\n",
    "Enron was an american company, that due to financial fraud collapse and subsequentiall was under investigation by law enforcement agencies. During these investigations, E-Mails servers were seized and later published. \n",
    "\n",
    "Today this corpus is special, as it is only one of the few datsets, that actually contain 'real' E-Mails ready for analysis. \n",
    "\n",
    "The entire Corpus is around 600000 E-Mails, for this project a smaller subset is being used for Spam detection. "
   ]
  },
  {
   "cell_type": "markdown",
   "id": "d84497d2",
   "metadata": {},
   "source": [
    "<h2>Goals of the project</h2>"
   ]
  },
  {
   "cell_type": "markdown",
   "id": "101bc955",
   "metadata": {},
   "source": [
    "The goal of the project is to analyze different Spam. Several goals: \n",
    "\n",
    "1. Find the best Spam filter\n",
    "2. Determine which effect on the Spam recognition the Subject line has. \n",
    "3. Determine the best Dataset for Spam detection out of a number of datasets --> e.g. train with 5 datasets and test on 6 dataset"
   ]
  },
  {
   "cell_type": "markdown",
   "id": "a2cdb71e",
   "metadata": {},
   "source": [
    "<h2>Analyzing and Understanding the Dataset</h2<"
   ]
  },
  {
   "cell_type": "code",
   "execution_count": 4,
   "id": "1fe6acc4",
   "metadata": {},
   "outputs": [],
   "source": [
    "data_file = './enron_spam_data.csv'"
   ]
  },
  {
   "cell_type": "code",
   "execution_count": 5,
   "id": "afb3428b",
   "metadata": {},
   "outputs": [],
   "source": [
    "enron_df = pd.read_csv(data_file)"
   ]
  },
  {
   "cell_type": "code",
   "execution_count": 6,
   "id": "e8b45ee3",
   "metadata": {},
   "outputs": [],
   "source": [
    "enron_df_original = pd.read_csv(data_file)"
   ]
  },
  {
   "cell_type": "code",
   "execution_count": 7,
   "id": "863494f1",
   "metadata": {},
   "outputs": [],
   "source": [
    "header_names = enron_df.keys()"
   ]
  },
  {
   "cell_type": "code",
   "execution_count": 8,
   "id": "18e30062",
   "metadata": {},
   "outputs": [
    {
     "name": "stdout",
     "output_type": "stream",
     "text": [
      "Index(['Message ID', 'Subject', 'Message', 'Spam/Ham', 'Date'], dtype='object')\n"
     ]
    }
   ],
   "source": [
    "print(header_names)"
   ]
  },
  {
   "cell_type": "code",
   "execution_count": 9,
   "id": "671187a0",
   "metadata": {},
   "outputs": [
    {
     "data": {
      "text/html": [
       "<div>\n",
       "<style scoped>\n",
       "    .dataframe tbody tr th:only-of-type {\n",
       "        vertical-align: middle;\n",
       "    }\n",
       "\n",
       "    .dataframe tbody tr th {\n",
       "        vertical-align: top;\n",
       "    }\n",
       "\n",
       "    .dataframe thead th {\n",
       "        text-align: right;\n",
       "    }\n",
       "</style>\n",
       "<table border=\"1\" class=\"dataframe\">\n",
       "  <thead>\n",
       "    <tr style=\"text-align: right;\">\n",
       "      <th></th>\n",
       "      <th>Message ID</th>\n",
       "      <th>Subject</th>\n",
       "      <th>Message</th>\n",
       "      <th>Spam/Ham</th>\n",
       "      <th>Date</th>\n",
       "    </tr>\n",
       "  </thead>\n",
       "  <tbody>\n",
       "    <tr>\n",
       "      <th>0</th>\n",
       "      <td>0</td>\n",
       "      <td>christmas tree farm pictures</td>\n",
       "      <td>NaN</td>\n",
       "      <td>ham</td>\n",
       "      <td>1999-12-10</td>\n",
       "    </tr>\n",
       "    <tr>\n",
       "      <th>1</th>\n",
       "      <td>1</td>\n",
       "      <td>vastar resources , inc .</td>\n",
       "      <td>gary , production from the high island larger ...</td>\n",
       "      <td>ham</td>\n",
       "      <td>1999-12-13</td>\n",
       "    </tr>\n",
       "    <tr>\n",
       "      <th>2</th>\n",
       "      <td>2</td>\n",
       "      <td>calpine daily gas nomination</td>\n",
       "      <td>- calpine daily gas nomination 1 . doc</td>\n",
       "      <td>ham</td>\n",
       "      <td>1999-12-14</td>\n",
       "    </tr>\n",
       "    <tr>\n",
       "      <th>3</th>\n",
       "      <td>3</td>\n",
       "      <td>re : issue</td>\n",
       "      <td>fyi - see note below - already done .\\nstella\\...</td>\n",
       "      <td>ham</td>\n",
       "      <td>1999-12-14</td>\n",
       "    </tr>\n",
       "    <tr>\n",
       "      <th>4</th>\n",
       "      <td>4</td>\n",
       "      <td>meter 7268 nov allocation</td>\n",
       "      <td>fyi .\\n- - - - - - - - - - - - - - - - - - - -...</td>\n",
       "      <td>ham</td>\n",
       "      <td>1999-12-14</td>\n",
       "    </tr>\n",
       "  </tbody>\n",
       "</table>\n",
       "</div>"
      ],
      "text/plain": [
       "   Message ID                       Subject  \\\n",
       "0           0  christmas tree farm pictures   \n",
       "1           1      vastar resources , inc .   \n",
       "2           2  calpine daily gas nomination   \n",
       "3           3                    re : issue   \n",
       "4           4     meter 7268 nov allocation   \n",
       "\n",
       "                                             Message Spam/Ham        Date  \n",
       "0                                                NaN      ham  1999-12-10  \n",
       "1  gary , production from the high island larger ...      ham  1999-12-13  \n",
       "2             - calpine daily gas nomination 1 . doc      ham  1999-12-14  \n",
       "3  fyi - see note below - already done .\\nstella\\...      ham  1999-12-14  \n",
       "4  fyi .\\n- - - - - - - - - - - - - - - - - - - -...      ham  1999-12-14  "
      ]
     },
     "execution_count": 9,
     "metadata": {},
     "output_type": "execute_result"
    }
   ],
   "source": [
    "enron_df.head()"
   ]
  },
  {
   "cell_type": "code",
   "execution_count": 10,
   "id": "eed6f24c",
   "metadata": {},
   "outputs": [
    {
     "data": {
      "text/html": [
       "<div>\n",
       "<style scoped>\n",
       "    .dataframe tbody tr th:only-of-type {\n",
       "        vertical-align: middle;\n",
       "    }\n",
       "\n",
       "    .dataframe tbody tr th {\n",
       "        vertical-align: top;\n",
       "    }\n",
       "\n",
       "    .dataframe thead th {\n",
       "        text-align: right;\n",
       "    }\n",
       "</style>\n",
       "<table border=\"1\" class=\"dataframe\">\n",
       "  <thead>\n",
       "    <tr style=\"text-align: right;\">\n",
       "      <th></th>\n",
       "      <th>Message ID</th>\n",
       "    </tr>\n",
       "  </thead>\n",
       "  <tbody>\n",
       "    <tr>\n",
       "      <th>count</th>\n",
       "      <td>33716.000000</td>\n",
       "    </tr>\n",
       "    <tr>\n",
       "      <th>mean</th>\n",
       "      <td>16857.500000</td>\n",
       "    </tr>\n",
       "    <tr>\n",
       "      <th>std</th>\n",
       "      <td>9733.115174</td>\n",
       "    </tr>\n",
       "    <tr>\n",
       "      <th>min</th>\n",
       "      <td>0.000000</td>\n",
       "    </tr>\n",
       "    <tr>\n",
       "      <th>25%</th>\n",
       "      <td>8428.750000</td>\n",
       "    </tr>\n",
       "    <tr>\n",
       "      <th>50%</th>\n",
       "      <td>16857.500000</td>\n",
       "    </tr>\n",
       "    <tr>\n",
       "      <th>75%</th>\n",
       "      <td>25286.250000</td>\n",
       "    </tr>\n",
       "    <tr>\n",
       "      <th>max</th>\n",
       "      <td>33715.000000</td>\n",
       "    </tr>\n",
       "  </tbody>\n",
       "</table>\n",
       "</div>"
      ],
      "text/plain": [
       "         Message ID\n",
       "count  33716.000000\n",
       "mean   16857.500000\n",
       "std     9733.115174\n",
       "min        0.000000\n",
       "25%     8428.750000\n",
       "50%    16857.500000\n",
       "75%    25286.250000\n",
       "max    33715.000000"
      ]
     },
     "execution_count": 10,
     "metadata": {},
     "output_type": "execute_result"
    }
   ],
   "source": [
    "enron_df.describe()"
   ]
  },
  {
   "cell_type": "markdown",
   "id": "a6afeb94",
   "metadata": {},
   "source": [
    "<h2>Data distribution</h2>"
   ]
  },
  {
   "cell_type": "code",
   "execution_count": 11,
   "id": "6e04aef6",
   "metadata": {},
   "outputs": [
    {
     "name": "stdout",
     "output_type": "stream",
     "text": [
      "spam    17171\n",
      "ham     16545\n",
      "Name: Spam/Ham, dtype: int64\n"
     ]
    }
   ],
   "source": [
    "enron_label = enron_df['Spam/Ham'].value_counts()\n",
    "print(enron_label)"
   ]
  },
  {
   "cell_type": "code",
   "execution_count": 12,
   "id": "19c07e0b",
   "metadata": {},
   "outputs": [
    {
     "data": {
      "image/png": "[encoded data removed]",
      "text/plain": [
       "<Figure size 500x1000 with 1 Axes>"
      ]
     },
     "metadata": {},
     "output_type": "display_data"
    }
   ],
   "source": [
    "ax = enron_label.plot(kind='bar', figsize=(5,10), fontsize=20)\n",
    "ax.set_xticklabels(ax.get_xticklabels(), rotation = 0)\n",
    "for i in ax.containers:\n",
    "    ax.bar_label(i, label_type='edge')\n",
    "ax.set_title('Enron Dataset Spam / Ham Distribution total')\n",
    "plt.show()"
   ]
  },
  {
   "cell_type": "code",
   "execution_count": 13,
   "id": "acf8245d",
   "metadata": {},
   "outputs": [
    {
     "name": "stdout",
     "output_type": "stream",
     "text": [
      "spam    50.928343\n",
      "ham     49.071657\n",
      "Name: Spam/Ham, dtype: float64\n"
     ]
    }
   ],
   "source": [
    "enron_percentage = (enron_df['Spam/Ham'].value_counts(normalize=True))*100\n",
    "print(enron_percentage)"
   ]
  },
  {
   "cell_type": "code",
   "execution_count": 14,
   "id": "081dd6f8",
   "metadata": {},
   "outputs": [
    {
     "data": {
      "image/png": "[encoded data removed]",
      "text/plain": [
       "<Figure size 500x600 with 1 Axes>"
      ]
     },
     "metadata": {},
     "output_type": "display_data"
    }
   ],
   "source": [
    "ax = enron_percentage.plot(kind='bar', figsize=(5,6), fontsize=20)\n",
    "ax.set_xticklabels(ax.get_xticklabels(), rotation = 0)\n",
    "for i in ax.containers:\n",
    "    ax.bar_label(i, label_type='edge')\n",
    "ax.set_title('Enron Dataset Spam / Ham Distribution in %')\n",
    "plt.show()"
   ]
  },
  {
   "cell_type": "markdown",
   "id": "f31bc07f",
   "metadata": {},
   "source": [
    "<h2>Data Cleaning and Data Preparation</h2>"
   ]
  },
  {
   "cell_type": "markdown",
   "id": "491df6bf",
   "metadata": {},
   "source": [
    "Noticing the NaN in the first message shown above, I decided to anayze how complete the dataset is. "
   ]
  },
  {
   "cell_type": "code",
   "execution_count": 15,
   "id": "c3693702",
   "metadata": {},
   "outputs": [
    {
     "name": "stdout",
     "output_type": "stream",
     "text": [
      "Number of NaN values in 'Message ID' column: 0\n",
      "Number of NaN values in 'Subject' column: 289\n",
      "Number of NaN values in 'Message' column: 371\n",
      "Number of NaN values in 'Spam/Ham' column: 0\n"
     ]
    }
   ],
   "source": [
    "messageID_NaN = enron_df['Message ID'].isna().sum()\n",
    "subject_NaN = enron_df['Subject'].isna().sum()\n",
    "message_NaN = enron_df['Message'].isna().sum()\n",
    "spam_NaN = enron_df['Spam/Ham'].isna().sum()\n",
    "print(f\"Number of NaN values in 'Message ID' column: {messageID_NaN}\")\n",
    "print(f\"Number of NaN values in 'Subject' column: {subject_NaN}\")\n",
    "print(f\"Number of NaN values in 'Message' column: {message_NaN}\")\n",
    "print(f\"Number of NaN values in 'Spam/Ham' column: {spam_NaN}\")"
   ]
  },
  {
   "cell_type": "code",
   "execution_count": 16,
   "id": "ef2148ca",
   "metadata": {},
   "outputs": [
    {
     "name": "stdout",
     "output_type": "stream",
     "text": [
      "Total Maximum Lost E-Mails: 660\n",
      "Percentage of Total E-Mails: 0.019575275833432198\n"
     ]
    }
   ],
   "source": [
    "max_nan = subject_NaN + message_NaN\n",
    "percentage_nan = max_nan / len(enron_df)\n",
    "print('Total Maximum Lost E-Mails:' ,max_nan)\n",
    "print('Percentage of Total E-Mails:',percentage_nan)"
   ]
  },
  {
   "cell_type": "markdown",
   "id": "a4ebf66f",
   "metadata": {},
   "source": [
    "As we can see, a maximum of 660 E-Mails would be lost if we dropped all NaN values. While this is only 1,9% of all E-Mails, we risk eleminating Spam messages and tainting the analysis. Therefore I analyze how many of the 'subjectless' E-Mails are Spam."
   ]
  },
  {
   "cell_type": "code",
   "execution_count": 17,
   "id": "af09fddb",
   "metadata": {},
   "outputs": [
    {
     "name": "stdout",
     "output_type": "stream",
     "text": [
      "Subject = NaN && is Spam: 289\n",
      "Message = NaN && is spam: 319\n"
     ]
    }
   ],
   "source": [
    "na_and_spam_sub = len(enron_df[(enron_df[\"Subject\"].isna()) & (enron_df[\"Spam/Ham\"]=='spam')])\n",
    "na_and_spam_mes = len(enron_df[(enron_df[\"Message\"].isna()) & (enron_df[\"Spam/Ham\"]=='spam')])\n",
    "print('Subject = NaN && is Spam:',na_and_spam_sub)\n",
    "print('Message = NaN && is spam:' ,na_and_spam_mes)"
   ]
  },
  {
   "cell_type": "markdown",
   "id": "45e5d9af",
   "metadata": {},
   "source": [
    "Interestingly enough, all of the message where there is no subject are classified as Spam.\n",
    "For Messages with no Body, this happens also for most of the messages"
   ]
  },
  {
   "cell_type": "code",
   "execution_count": 18,
   "id": "e5091b08",
   "metadata": {},
   "outputs": [
    {
     "name": "stdout",
     "output_type": "stream",
     "text": [
      "       Message ID Subject                                            Message  \\\n",
      "3699         3699     NaN  holiday specials on : didrex and nasacort\\n60 ...   \n",
      "3708         3708     NaN  the only solution to penis\\nenlargement\\nnzzbq...   \n",
      "3749         3749     NaN                                                NaN   \n",
      "3777         3777     NaN  to _ cc _ default _ handler\\nsubject : [ spam ...   \n",
      "3820         3820     NaN  discount meds right from home\\nvalium , xanax ...   \n",
      "...           ...     ...                                                ...   \n",
      "32833       32833     NaN  why paily for pobrne ?\\nas a lrpim \" itecd ti ...   \n",
      "32835       32835     NaN  are youu stil 3 l pa margin - right : 8 \" alig...   \n",
      "32898       32898     NaN  pre - ejeculators :\\nplease read here for info...   \n",
      "32926       32926     NaN  there ' s never been a better time to re _ fin...   \n",
      "33155       33155     NaN  sud euler gangling phoneme billy birdlike dutc...   \n",
      "\n",
      "      Spam/Ham        Date  \n",
      "3699      spam  2003-12-29  \n",
      "3708      spam  2004-01-03  \n",
      "3749      spam  2004-01-24  \n",
      "3777      spam  2004-02-10  \n",
      "3820      spam  2004-02-25  \n",
      "...        ...         ...  \n",
      "32833     spam  2005-05-14  \n",
      "32835     spam  2005-05-14  \n",
      "32898     spam  2005-05-19  \n",
      "32926     spam  2005-05-21  \n",
      "33155     spam  2005-06-12  \n",
      "\n",
      "[289 rows x 5 columns]\n"
     ]
    }
   ],
   "source": [
    "print(enron_df[enron_df['Subject'].isna()])"
   ]
  },
  {
   "cell_type": "markdown",
   "id": "f2642902",
   "metadata": {},
   "source": [
    "Taking a quick peek at these couple of message, they indeed appear to be Spam. "
   ]
  },
  {
   "cell_type": "markdown",
   "id": "729cb9d3",
   "metadata": {},
   "source": [
    "Let us now count the number of message where there is no subject line and no body: "
   ]
  },
  {
   "cell_type": "code",
   "execution_count": 19,
   "id": "6139c6f4",
   "metadata": {},
   "outputs": [],
   "source": [
    "empty_message = len(enron_df[(enron_df[\"Subject\"].isna()) & (enron_df[\"Message\"].isna())])"
   ]
  },
  {
   "cell_type": "code",
   "execution_count": 20,
   "id": "9ee0301e",
   "metadata": {},
   "outputs": [
    {
     "name": "stdout",
     "output_type": "stream",
     "text": [
      "51\n"
     ]
    }
   ],
   "source": [
    "print(empty_message)"
   ]
  },
  {
   "cell_type": "code",
   "execution_count": 21,
   "id": "59c35122",
   "metadata": {},
   "outputs": [
    {
     "name": "stdout",
     "output_type": "stream",
     "text": [
      "       Message ID Subject Message Spam/Ham        Date\n",
      "3749         3749     NaN     NaN     spam  2004-01-24\n",
      "4062         4062     NaN     NaN     spam  2004-06-22\n",
      "4136         4136     NaN     NaN     spam  2004-07-22\n",
      "4141         4141     NaN     NaN     spam  2004-07-24\n",
      "4153         4153     NaN     NaN     spam  2004-07-29\n",
      "4254         4254     NaN     NaN     spam  2004-09-04\n",
      "4282         4282     NaN     NaN     spam  2004-09-15\n",
      "4593         4593     NaN     NaN     spam  2004-12-21\n",
      "4596         4596     NaN     NaN     spam  2004-12-23\n",
      "4601         4601     NaN     NaN     spam  2004-12-25\n",
      "4683         4683     NaN     NaN     spam  2005-01-25\n",
      "4684         4684     NaN     NaN     spam  2005-01-25\n",
      "4691         4691     NaN     NaN     spam  2005-01-27\n",
      "4706         4706     NaN     NaN     spam  2005-02-02\n",
      "4728         4728     NaN     NaN     spam  2005-02-07\n",
      "4963         4963     NaN     NaN     spam  2005-05-13\n",
      "18420       18420     NaN     NaN     spam  2004-02-28\n",
      "18581       18581     NaN     NaN     spam  2004-03-30\n",
      "18823       18823     NaN     NaN     spam  2004-05-02\n",
      "18841       18841     NaN     NaN     spam  2004-05-04\n",
      "18908       18908     NaN     NaN     spam  2004-05-11\n",
      "19107       19107     NaN     NaN     spam  2004-06-10\n",
      "19366       19366     NaN     NaN     spam  2004-07-15\n",
      "19378       19378     NaN     NaN     spam  2004-07-17\n",
      "19427       19427     NaN     NaN     spam  2004-07-24\n",
      "19454       19454     NaN     NaN     spam  2004-07-29\n",
      "19549       19549     NaN     NaN     spam  2004-08-13\n",
      "19557       19557     NaN     NaN     spam  2004-08-14\n",
      "19654       19654     NaN     NaN     spam  2004-08-24\n",
      "19698       19698     NaN     NaN     spam  2004-08-30\n",
      "19723       19723     NaN     NaN     spam  2004-09-02\n",
      "19735       19735     NaN     NaN     spam  2004-09-04\n",
      "19774       19774     NaN     NaN     spam  2004-09-10\n",
      "19817       19817     NaN     NaN     spam  2004-09-15\n",
      "19826       19826     NaN     NaN     spam  2004-09-16\n",
      "19868       19868     NaN     NaN     spam  2004-09-21\n",
      "20042       20042     NaN     NaN     spam  2004-10-11\n",
      "20198       20198     NaN     NaN     spam  2004-10-27\n",
      "20493       20493     NaN     NaN     spam  2004-11-26\n",
      "20518       20518     NaN     NaN     spam  2004-11-28\n",
      "20541       20541     NaN     NaN     spam  2004-11-30\n",
      "20686       20686     NaN     NaN     spam  2004-12-13\n",
      "20750       20750     NaN     NaN     spam  2004-12-20\n",
      "20751       20751     NaN     NaN     spam  2004-12-20\n",
      "20760       20760     NaN     NaN     spam  2004-12-21\n",
      "20761       20761     NaN     NaN     spam  2004-12-21\n",
      "20834       20834     NaN     NaN     spam  2004-12-29\n",
      "20909       20909     NaN     NaN     spam  2005-01-07\n",
      "20936       20936     NaN     NaN     spam  2005-01-10\n",
      "20974       20974     NaN     NaN     spam  2005-01-14\n",
      "21485       21485     NaN     NaN     spam  2005-03-09\n"
     ]
    }
   ],
   "source": [
    "print(enron_df[(enron_df[\"Subject\"].isna()) & (enron_df[\"Message\"].isna())])"
   ]
  },
  {
   "cell_type": "markdown",
   "id": "fe89e50d",
   "metadata": {},
   "source": [
    "Indeed there are 51 message that do not contain Subject and Message. We will leave those in the dataframe, as they are nevertheless Spam. While they are probably not Harmful (maybe except for DoS against the server), they can be annoying for the enduser. "
   ]
  },
  {
   "cell_type": "markdown",
   "id": "444f3a10",
   "metadata": {},
   "source": [
    "As can be seen above, we notice the Column Date. While it is surely interesting to correlate the impending doom of financial collapse of the company to the amount of E-Mails send in that time frame, having the date for detecting Spams is not necessary. \n",
    "\n",
    "Potentially for later graphics it would be interesting to see, if Spam is sent on the weekend or not.\n",
    "\n",
    "In any case, for now we can safely ignore the Date column: "
   ]
  },
  {
   "cell_type": "code",
   "execution_count": 22,
   "id": "85a129dd",
   "metadata": {},
   "outputs": [],
   "source": [
    "enron_df.drop('Date', axis=1, inplace = True)"
   ]
  },
  {
   "cell_type": "code",
   "execution_count": 23,
   "id": "64ba79e2",
   "metadata": {},
   "outputs": [],
   "source": [
    "df2 = enron_df[enron_df['Message'].duplicated() == True].sort_values('Message')"
   ]
  },
  {
   "cell_type": "code",
   "execution_count": 24,
   "id": "4e99bac8",
   "metadata": {},
   "outputs": [
    {
     "name": "stdout",
     "output_type": "stream",
     "text": [
      "       Message ID                                            Subject  \\\n",
      "25239       25239                             how to soak her in cum   \n",
      "25726       25726                             how to soak her in cum   \n",
      "32524       32524  aggressive investors and traders shouid be wat...   \n",
      "32508       32508      owning these shares fast - tracks performance   \n",
      "32591       32591  this performer defines the secret of stock sel...   \n",
      "...           ...                                                ...   \n",
      "27999       27999                           ripley house photo album   \n",
      "28722       28722  http : / / hrweb . enron . com / benefits / fo...   \n",
      "29059       29059                          h : eyeforenergy briefing   \n",
      "29100       29100                          h : eyeforenergy briefing   \n",
      "29109       29109                                            website   \n",
      "\n",
      "                                                 Message Spam/Ham  \n",
      "25239  \" i just wanted to write and thank you for spu...     spam  \n",
      "25726  \" my girlfriend and me have been really enjoyi...     spam  \n",
      "32524  \" stock watch aiert \" this morning are wysak p...     spam  \n",
      "32508  \" stock watch aiert \" this morning are wysak p...     spam  \n",
      "32591  \" stock watch aiert \" this morning are wysak p...     spam  \n",
      "...                                                  ...      ...  \n",
      "27999                                                NaN      ham  \n",
      "28722                                                NaN      ham  \n",
      "29059                                                NaN      ham  \n",
      "29100                                                NaN      ham  \n",
      "29109                                                NaN      ham  \n",
      "\n",
      "[3936 rows x 4 columns]\n"
     ]
    }
   ],
   "source": [
    "print(df2)"
   ]
  },
  {
   "cell_type": "markdown",
   "id": "ed90ab3d",
   "metadata": {},
   "source": [
    "Obviously if we consider the nature of Spam messages, it becomes clear that some of the received messages are Duplicates. I have decided to remove all of these duplicates, as we do not want to have any bias in the following analysis. "
   ]
  },
  {
   "cell_type": "code",
   "execution_count": 25,
   "id": "ade75121",
   "metadata": {},
   "outputs": [
    {
     "data": {
      "text/html": [
       "<div>\n",
       "<style scoped>\n",
       "    .dataframe tbody tr th:only-of-type {\n",
       "        vertical-align: middle;\n",
       "    }\n",
       "\n",
       "    .dataframe tbody tr th {\n",
       "        vertical-align: top;\n",
       "    }\n",
       "\n",
       "    .dataframe thead th {\n",
       "        text-align: right;\n",
       "    }\n",
       "</style>\n",
       "<table border=\"1\" class=\"dataframe\">\n",
       "  <thead>\n",
       "    <tr style=\"text-align: right;\">\n",
       "      <th></th>\n",
       "      <th>Message ID</th>\n",
       "    </tr>\n",
       "  </thead>\n",
       "  <tbody>\n",
       "    <tr>\n",
       "      <th>count</th>\n",
       "      <td>33716.000000</td>\n",
       "    </tr>\n",
       "    <tr>\n",
       "      <th>mean</th>\n",
       "      <td>16857.500000</td>\n",
       "    </tr>\n",
       "    <tr>\n",
       "      <th>std</th>\n",
       "      <td>9733.115174</td>\n",
       "    </tr>\n",
       "    <tr>\n",
       "      <th>min</th>\n",
       "      <td>0.000000</td>\n",
       "    </tr>\n",
       "    <tr>\n",
       "      <th>25%</th>\n",
       "      <td>8428.750000</td>\n",
       "    </tr>\n",
       "    <tr>\n",
       "      <th>50%</th>\n",
       "      <td>16857.500000</td>\n",
       "    </tr>\n",
       "    <tr>\n",
       "      <th>75%</th>\n",
       "      <td>25286.250000</td>\n",
       "    </tr>\n",
       "    <tr>\n",
       "      <th>max</th>\n",
       "      <td>33715.000000</td>\n",
       "    </tr>\n",
       "  </tbody>\n",
       "</table>\n",
       "</div>"
      ],
      "text/plain": [
       "         Message ID\n",
       "count  33716.000000\n",
       "mean   16857.500000\n",
       "std     9733.115174\n",
       "min        0.000000\n",
       "25%     8428.750000\n",
       "50%    16857.500000\n",
       "75%    25286.250000\n",
       "max    33715.000000"
      ]
     },
     "execution_count": 25,
     "metadata": {},
     "output_type": "execute_result"
    }
   ],
   "source": [
    "enron_df.describe()"
   ]
  },
  {
   "cell_type": "code",
   "execution_count": 26,
   "id": "05b40780",
   "metadata": {},
   "outputs": [],
   "source": [
    "enron_df.drop_duplicates(subset=['Message'], inplace = True)"
   ]
  },
  {
   "cell_type": "code",
   "execution_count": 27,
   "id": "b7d9a5b7",
   "metadata": {},
   "outputs": [
    {
     "data": {
      "text/html": [
       "<div>\n",
       "<style scoped>\n",
       "    .dataframe tbody tr th:only-of-type {\n",
       "        vertical-align: middle;\n",
       "    }\n",
       "\n",
       "    .dataframe tbody tr th {\n",
       "        vertical-align: top;\n",
       "    }\n",
       "\n",
       "    .dataframe thead th {\n",
       "        text-align: right;\n",
       "    }\n",
       "</style>\n",
       "<table border=\"1\" class=\"dataframe\">\n",
       "  <thead>\n",
       "    <tr style=\"text-align: right;\">\n",
       "      <th></th>\n",
       "      <th>Message ID</th>\n",
       "      <th>Subject</th>\n",
       "      <th>Message</th>\n",
       "      <th>Spam/Ham</th>\n",
       "    </tr>\n",
       "  </thead>\n",
       "  <tbody>\n",
       "    <tr>\n",
       "      <th>0</th>\n",
       "      <td>0</td>\n",
       "      <td>christmas tree farm pictures</td>\n",
       "      <td>NaN</td>\n",
       "      <td>ham</td>\n",
       "    </tr>\n",
       "    <tr>\n",
       "      <th>1</th>\n",
       "      <td>1</td>\n",
       "      <td>vastar resources , inc .</td>\n",
       "      <td>gary , production from the high island larger ...</td>\n",
       "      <td>ham</td>\n",
       "    </tr>\n",
       "    <tr>\n",
       "      <th>2</th>\n",
       "      <td>2</td>\n",
       "      <td>calpine daily gas nomination</td>\n",
       "      <td>- calpine daily gas nomination 1 . doc</td>\n",
       "      <td>ham</td>\n",
       "    </tr>\n",
       "    <tr>\n",
       "      <th>3</th>\n",
       "      <td>3</td>\n",
       "      <td>re : issue</td>\n",
       "      <td>fyi - see note below - already done .\\nstella\\...</td>\n",
       "      <td>ham</td>\n",
       "    </tr>\n",
       "    <tr>\n",
       "      <th>4</th>\n",
       "      <td>4</td>\n",
       "      <td>meter 7268 nov allocation</td>\n",
       "      <td>fyi .\\n- - - - - - - - - - - - - - - - - - - -...</td>\n",
       "      <td>ham</td>\n",
       "    </tr>\n",
       "  </tbody>\n",
       "</table>\n",
       "</div>"
      ],
      "text/plain": [
       "   Message ID                       Subject  \\\n",
       "0           0  christmas tree farm pictures   \n",
       "1           1      vastar resources , inc .   \n",
       "2           2  calpine daily gas nomination   \n",
       "3           3                    re : issue   \n",
       "4           4     meter 7268 nov allocation   \n",
       "\n",
       "                                             Message Spam/Ham  \n",
       "0                                                NaN      ham  \n",
       "1  gary , production from the high island larger ...      ham  \n",
       "2             - calpine daily gas nomination 1 . doc      ham  \n",
       "3  fyi - see note below - already done .\\nstella\\...      ham  \n",
       "4  fyi .\\n- - - - - - - - - - - - - - - - - - - -...      ham  "
      ]
     },
     "execution_count": 27,
     "metadata": {},
     "output_type": "execute_result"
    }
   ],
   "source": [
    "enron_df.head()"
   ]
  },
  {
   "cell_type": "code",
   "execution_count": 28,
   "id": "808caa53",
   "metadata": {},
   "outputs": [
    {
     "data": {
      "text/html": [
       "<div>\n",
       "<style scoped>\n",
       "    .dataframe tbody tr th:only-of-type {\n",
       "        vertical-align: middle;\n",
       "    }\n",
       "\n",
       "    .dataframe tbody tr th {\n",
       "        vertical-align: top;\n",
       "    }\n",
       "\n",
       "    .dataframe thead th {\n",
       "        text-align: right;\n",
       "    }\n",
       "</style>\n",
       "<table border=\"1\" class=\"dataframe\">\n",
       "  <thead>\n",
       "    <tr style=\"text-align: right;\">\n",
       "      <th></th>\n",
       "      <th>Message ID</th>\n",
       "    </tr>\n",
       "  </thead>\n",
       "  <tbody>\n",
       "    <tr>\n",
       "      <th>count</th>\n",
       "      <td>29780.000000</td>\n",
       "    </tr>\n",
       "    <tr>\n",
       "      <th>mean</th>\n",
       "      <td>16090.690262</td>\n",
       "    </tr>\n",
       "    <tr>\n",
       "      <th>std</th>\n",
       "      <td>9683.706508</td>\n",
       "    </tr>\n",
       "    <tr>\n",
       "      <th>min</th>\n",
       "      <td>0.000000</td>\n",
       "    </tr>\n",
       "    <tr>\n",
       "      <th>25%</th>\n",
       "      <td>7782.750000</td>\n",
       "    </tr>\n",
       "    <tr>\n",
       "      <th>50%</th>\n",
       "      <td>15597.500000</td>\n",
       "    </tr>\n",
       "    <tr>\n",
       "      <th>75%</th>\n",
       "      <td>23917.250000</td>\n",
       "    </tr>\n",
       "    <tr>\n",
       "      <th>max</th>\n",
       "      <td>33714.000000</td>\n",
       "    </tr>\n",
       "  </tbody>\n",
       "</table>\n",
       "</div>"
      ],
      "text/plain": [
       "         Message ID\n",
       "count  29780.000000\n",
       "mean   16090.690262\n",
       "std     9683.706508\n",
       "min        0.000000\n",
       "25%     7782.750000\n",
       "50%    15597.500000\n",
       "75%    23917.250000\n",
       "max    33714.000000"
      ]
     },
     "execution_count": 28,
     "metadata": {},
     "output_type": "execute_result"
    }
   ],
   "source": [
    "enron_df.describe()"
   ]
  },
  {
   "cell_type": "code",
   "execution_count": 29,
   "id": "d04cf65c",
   "metadata": {},
   "outputs": [],
   "source": [
    "df2 = len(enron_df[enron_df['Subject'].duplicated() == True])"
   ]
  },
  {
   "cell_type": "code",
   "execution_count": 30,
   "id": "45ada071",
   "metadata": {},
   "outputs": [
    {
     "name": "stdout",
     "output_type": "stream",
     "text": [
      "6205\n"
     ]
    }
   ],
   "source": [
    "print(df2)"
   ]
  },
  {
   "cell_type": "markdown",
   "id": "cc5d0cbc",
   "metadata": {},
   "source": [
    "As we can see, there are also 6205 dubplicated subjects. This surprised me, as it represent a significant part of all the messages. Neverthless I decided to not remove those messages, as we have already remove messages."
   ]
  },
  {
   "cell_type": "markdown",
   "id": "b45692ff",
   "metadata": {},
   "source": [
    "As Python is casesensitive I have decided to transform all words into lowercase. Although it appears the dataset is already completly in lowercase, I do this for safety reasons."
   ]
  },
  {
   "cell_type": "code",
   "execution_count": 31,
   "id": "e11bc7f3",
   "metadata": {},
   "outputs": [],
   "source": [
    "enron_df['Message'] = enron_df['Message'].str.lower()\n",
    "enron_df['Subject'] = enron_df['Subject'].str.lower()"
   ]
  },
  {
   "cell_type": "code",
   "execution_count": 32,
   "id": "acc379c4",
   "metadata": {},
   "outputs": [
    {
     "data": {
      "text/html": [
       "<div>\n",
       "<style scoped>\n",
       "    .dataframe tbody tr th:only-of-type {\n",
       "        vertical-align: middle;\n",
       "    }\n",
       "\n",
       "    .dataframe tbody tr th {\n",
       "        vertical-align: top;\n",
       "    }\n",
       "\n",
       "    .dataframe thead th {\n",
       "        text-align: right;\n",
       "    }\n",
       "</style>\n",
       "<table border=\"1\" class=\"dataframe\">\n",
       "  <thead>\n",
       "    <tr style=\"text-align: right;\">\n",
       "      <th></th>\n",
       "      <th>Message ID</th>\n",
       "      <th>Subject</th>\n",
       "      <th>Message</th>\n",
       "      <th>Spam/Ham</th>\n",
       "    </tr>\n",
       "  </thead>\n",
       "  <tbody>\n",
       "    <tr>\n",
       "      <th>0</th>\n",
       "      <td>0</td>\n",
       "      <td>christmas tree farm pictures</td>\n",
       "      <td>NaN</td>\n",
       "      <td>ham</td>\n",
       "    </tr>\n",
       "    <tr>\n",
       "      <th>1</th>\n",
       "      <td>1</td>\n",
       "      <td>vastar resources , inc .</td>\n",
       "      <td>gary , production from the high island larger ...</td>\n",
       "      <td>ham</td>\n",
       "    </tr>\n",
       "    <tr>\n",
       "      <th>2</th>\n",
       "      <td>2</td>\n",
       "      <td>calpine daily gas nomination</td>\n",
       "      <td>- calpine daily gas nomination 1 . doc</td>\n",
       "      <td>ham</td>\n",
       "    </tr>\n",
       "    <tr>\n",
       "      <th>3</th>\n",
       "      <td>3</td>\n",
       "      <td>re : issue</td>\n",
       "      <td>fyi - see note below - already done .\\nstella\\...</td>\n",
       "      <td>ham</td>\n",
       "    </tr>\n",
       "    <tr>\n",
       "      <th>4</th>\n",
       "      <td>4</td>\n",
       "      <td>meter 7268 nov allocation</td>\n",
       "      <td>fyi .\\n- - - - - - - - - - - - - - - - - - - -...</td>\n",
       "      <td>ham</td>\n",
       "    </tr>\n",
       "  </tbody>\n",
       "</table>\n",
       "</div>"
      ],
      "text/plain": [
       "   Message ID                       Subject  \\\n",
       "0           0  christmas tree farm pictures   \n",
       "1           1      vastar resources , inc .   \n",
       "2           2  calpine daily gas nomination   \n",
       "3           3                    re : issue   \n",
       "4           4     meter 7268 nov allocation   \n",
       "\n",
       "                                             Message Spam/Ham  \n",
       "0                                                NaN      ham  \n",
       "1  gary , production from the high island larger ...      ham  \n",
       "2             - calpine daily gas nomination 1 . doc      ham  \n",
       "3  fyi - see note below - already done .\\nstella\\...      ham  \n",
       "4  fyi .\\n- - - - - - - - - - - - - - - - - - - -...      ham  "
      ]
     },
     "execution_count": 32,
     "metadata": {},
     "output_type": "execute_result"
    }
   ],
   "source": [
    "enron_df.head()"
   ]
  },
  {
   "cell_type": "code",
   "execution_count": 33,
   "id": "e06f4301",
   "metadata": {},
   "outputs": [],
   "source": [
    "enron_df[\"Message\"] = enron_df['Message'].str.replace('[^\\w\\s]','', regex=True)\n",
    "enron_df[\"Subject\"] = enron_df['Subject'].str.replace('[^\\w\\s]','', regex=True)"
   ]
  },
  {
   "cell_type": "code",
   "execution_count": 34,
   "id": "c4cbd113",
   "metadata": {},
   "outputs": [
    {
     "data": {
      "text/html": [
       "<div>\n",
       "<style scoped>\n",
       "    .dataframe tbody tr th:only-of-type {\n",
       "        vertical-align: middle;\n",
       "    }\n",
       "\n",
       "    .dataframe tbody tr th {\n",
       "        vertical-align: top;\n",
       "    }\n",
       "\n",
       "    .dataframe thead th {\n",
       "        text-align: right;\n",
       "    }\n",
       "</style>\n",
       "<table border=\"1\" class=\"dataframe\">\n",
       "  <thead>\n",
       "    <tr style=\"text-align: right;\">\n",
       "      <th></th>\n",
       "      <th>Message ID</th>\n",
       "      <th>Subject</th>\n",
       "      <th>Message</th>\n",
       "      <th>Spam/Ham</th>\n",
       "    </tr>\n",
       "  </thead>\n",
       "  <tbody>\n",
       "    <tr>\n",
       "      <th>0</th>\n",
       "      <td>0</td>\n",
       "      <td>christmas tree farm pictures</td>\n",
       "      <td>NaN</td>\n",
       "      <td>ham</td>\n",
       "    </tr>\n",
       "    <tr>\n",
       "      <th>1</th>\n",
       "      <td>1</td>\n",
       "      <td>vastar resources  inc</td>\n",
       "      <td>gary  production from the high island larger b...</td>\n",
       "      <td>ham</td>\n",
       "    </tr>\n",
       "    <tr>\n",
       "      <th>2</th>\n",
       "      <td>2</td>\n",
       "      <td>calpine daily gas nomination</td>\n",
       "      <td>calpine daily gas nomination 1  doc</td>\n",
       "      <td>ham</td>\n",
       "    </tr>\n",
       "    <tr>\n",
       "      <th>3</th>\n",
       "      <td>3</td>\n",
       "      <td>re  issue</td>\n",
       "      <td>fyi  see note below  already done \\nstella\\n  ...</td>\n",
       "      <td>ham</td>\n",
       "    </tr>\n",
       "    <tr>\n",
       "      <th>4</th>\n",
       "      <td>4</td>\n",
       "      <td>meter 7268 nov allocation</td>\n",
       "      <td>fyi \\n                      forwarded by lauri...</td>\n",
       "      <td>ham</td>\n",
       "    </tr>\n",
       "  </tbody>\n",
       "</table>\n",
       "</div>"
      ],
      "text/plain": [
       "   Message ID                       Subject  \\\n",
       "0           0  christmas tree farm pictures   \n",
       "1           1        vastar resources  inc    \n",
       "2           2  calpine daily gas nomination   \n",
       "3           3                     re  issue   \n",
       "4           4     meter 7268 nov allocation   \n",
       "\n",
       "                                             Message Spam/Ham  \n",
       "0                                                NaN      ham  \n",
       "1  gary  production from the high island larger b...      ham  \n",
       "2                calpine daily gas nomination 1  doc      ham  \n",
       "3  fyi  see note below  already done \\nstella\\n  ...      ham  \n",
       "4  fyi \\n                      forwarded by lauri...      ham  "
      ]
     },
     "execution_count": 34,
     "metadata": {},
     "output_type": "execute_result"
    }
   ],
   "source": [
    "enron_df.head()"
   ]
  },
  {
   "cell_type": "code",
   "execution_count": 35,
   "id": "cddddede",
   "metadata": {},
   "outputs": [],
   "source": [
    "stop = stopwords.words('english')\n",
    "enron_df['Message'] = enron_df['Message'].fillna('')\n",
    "enron_df['Subject'] = enron_df['Subject'].fillna('')"
   ]
  },
  {
   "cell_type": "code",
   "execution_count": 36,
   "id": "0daf48ea",
   "metadata": {},
   "outputs": [],
   "source": [
    "enron_df['Message'] = enron_df['Message'].apply(lambda x: ' '.join([word for word in x.split() if word not in (stop)]))\n",
    "enron_df['Subject'] = enron_df['Subject'].apply(lambda x: ' '.join([word for word in x.split() if word not in (stop)]))"
   ]
  },
  {
   "cell_type": "code",
   "execution_count": 37,
   "id": "2e4a8ad6",
   "metadata": {},
   "outputs": [
    {
     "data": {
      "text/html": [
       "<div>\n",
       "<style scoped>\n",
       "    .dataframe tbody tr th:only-of-type {\n",
       "        vertical-align: middle;\n",
       "    }\n",
       "\n",
       "    .dataframe tbody tr th {\n",
       "        vertical-align: top;\n",
       "    }\n",
       "\n",
       "    .dataframe thead th {\n",
       "        text-align: right;\n",
       "    }\n",
       "</style>\n",
       "<table border=\"1\" class=\"dataframe\">\n",
       "  <thead>\n",
       "    <tr style=\"text-align: right;\">\n",
       "      <th></th>\n",
       "      <th>Message ID</th>\n",
       "      <th>Subject</th>\n",
       "      <th>Message</th>\n",
       "      <th>Spam/Ham</th>\n",
       "    </tr>\n",
       "  </thead>\n",
       "  <tbody>\n",
       "    <tr>\n",
       "      <th>0</th>\n",
       "      <td>0</td>\n",
       "      <td>christmas tree farm pictures</td>\n",
       "      <td></td>\n",
       "      <td>ham</td>\n",
       "    </tr>\n",
       "    <tr>\n",
       "      <th>1</th>\n",
       "      <td>1</td>\n",
       "      <td>vastar resources inc</td>\n",
       "      <td>gary production high island larger block 1 2 c...</td>\n",
       "      <td>ham</td>\n",
       "    </tr>\n",
       "    <tr>\n",
       "      <th>2</th>\n",
       "      <td>2</td>\n",
       "      <td>calpine daily gas nomination</td>\n",
       "      <td>calpine daily gas nomination 1 doc</td>\n",
       "      <td>ham</td>\n",
       "    </tr>\n",
       "    <tr>\n",
       "      <th>3</th>\n",
       "      <td>3</td>\n",
       "      <td>issue</td>\n",
       "      <td>fyi see note already done stella forwarded ste...</td>\n",
       "      <td>ham</td>\n",
       "    </tr>\n",
       "    <tr>\n",
       "      <th>4</th>\n",
       "      <td>4</td>\n",
       "      <td>meter 7268 nov allocation</td>\n",
       "      <td>fyi forwarded lauri allen hou ect 12 14 99 12 ...</td>\n",
       "      <td>ham</td>\n",
       "    </tr>\n",
       "  </tbody>\n",
       "</table>\n",
       "</div>"
      ],
      "text/plain": [
       "   Message ID                       Subject  \\\n",
       "0           0  christmas tree farm pictures   \n",
       "1           1          vastar resources inc   \n",
       "2           2  calpine daily gas nomination   \n",
       "3           3                         issue   \n",
       "4           4     meter 7268 nov allocation   \n",
       "\n",
       "                                             Message Spam/Ham  \n",
       "0                                                         ham  \n",
       "1  gary production high island larger block 1 2 c...      ham  \n",
       "2                 calpine daily gas nomination 1 doc      ham  \n",
       "3  fyi see note already done stella forwarded ste...      ham  \n",
       "4  fyi forwarded lauri allen hou ect 12 14 99 12 ...      ham  "
      ]
     },
     "execution_count": 37,
     "metadata": {},
     "output_type": "execute_result"
    }
   ],
   "source": [
    "enron_df.head()"
   ]
  },
  {
   "cell_type": "markdown",
   "id": "6399d0a3",
   "metadata": {},
   "source": [
    "As we can see removing punctuation and stopwords works fine. Sadly as we can see, due to reasons the NaN values had to be replaced with NaN. #################Potentially fix this alter"
   ]
  },
  {
   "cell_type": "markdown",
   "id": "67c62e9d",
   "metadata": {},
   "source": [
    "Having thought about how to handle the subject line of the message, I decideded to view the subject line simply as a \"Headline\", and therefore decided to unfiy message and subject into one column. In a sense, this also solves our NaN problem, as it is now ensure that every anaylze E-Mail has a unified message we can look at. "
   ]
  },
  {
   "cell_type": "code",
   "execution_count": 38,
   "id": "2c1e91f1",
   "metadata": {},
   "outputs": [],
   "source": [
    "enron_df['unified'] = enron_df['Subject'] + ' ' + enron_df['Message']\n",
    "enron_df_unified = enron_df.drop(['Subject', 'Message'], axis = 1)"
   ]
  },
  {
   "cell_type": "code",
   "execution_count": 39,
   "id": "0ebe9f09",
   "metadata": {},
   "outputs": [
    {
     "data": {
      "text/html": [
       "<div>\n",
       "<style scoped>\n",
       "    .dataframe tbody tr th:only-of-type {\n",
       "        vertical-align: middle;\n",
       "    }\n",
       "\n",
       "    .dataframe tbody tr th {\n",
       "        vertical-align: top;\n",
       "    }\n",
       "\n",
       "    .dataframe thead th {\n",
       "        text-align: right;\n",
       "    }\n",
       "</style>\n",
       "<table border=\"1\" class=\"dataframe\">\n",
       "  <thead>\n",
       "    <tr style=\"text-align: right;\">\n",
       "      <th></th>\n",
       "      <th>Message ID</th>\n",
       "      <th>Subject</th>\n",
       "      <th>Message</th>\n",
       "      <th>Spam/Ham</th>\n",
       "      <th>unified</th>\n",
       "    </tr>\n",
       "  </thead>\n",
       "  <tbody>\n",
       "    <tr>\n",
       "      <th>0</th>\n",
       "      <td>0</td>\n",
       "      <td>christmas tree farm pictures</td>\n",
       "      <td></td>\n",
       "      <td>ham</td>\n",
       "      <td>christmas tree farm pictures</td>\n",
       "    </tr>\n",
       "    <tr>\n",
       "      <th>1</th>\n",
       "      <td>1</td>\n",
       "      <td>vastar resources inc</td>\n",
       "      <td>gary production high island larger block 1 2 c...</td>\n",
       "      <td>ham</td>\n",
       "      <td>vastar resources inc gary production high isla...</td>\n",
       "    </tr>\n",
       "    <tr>\n",
       "      <th>2</th>\n",
       "      <td>2</td>\n",
       "      <td>calpine daily gas nomination</td>\n",
       "      <td>calpine daily gas nomination 1 doc</td>\n",
       "      <td>ham</td>\n",
       "      <td>calpine daily gas nomination calpine daily gas...</td>\n",
       "    </tr>\n",
       "    <tr>\n",
       "      <th>3</th>\n",
       "      <td>3</td>\n",
       "      <td>issue</td>\n",
       "      <td>fyi see note already done stella forwarded ste...</td>\n",
       "      <td>ham</td>\n",
       "      <td>issue fyi see note already done stella forward...</td>\n",
       "    </tr>\n",
       "    <tr>\n",
       "      <th>4</th>\n",
       "      <td>4</td>\n",
       "      <td>meter 7268 nov allocation</td>\n",
       "      <td>fyi forwarded lauri allen hou ect 12 14 99 12 ...</td>\n",
       "      <td>ham</td>\n",
       "      <td>meter 7268 nov allocation fyi forwarded lauri ...</td>\n",
       "    </tr>\n",
       "  </tbody>\n",
       "</table>\n",
       "</div>"
      ],
      "text/plain": [
       "   Message ID                       Subject  \\\n",
       "0           0  christmas tree farm pictures   \n",
       "1           1          vastar resources inc   \n",
       "2           2  calpine daily gas nomination   \n",
       "3           3                         issue   \n",
       "4           4     meter 7268 nov allocation   \n",
       "\n",
       "                                             Message Spam/Ham  \\\n",
       "0                                                         ham   \n",
       "1  gary production high island larger block 1 2 c...      ham   \n",
       "2                 calpine daily gas nomination 1 doc      ham   \n",
       "3  fyi see note already done stella forwarded ste...      ham   \n",
       "4  fyi forwarded lauri allen hou ect 12 14 99 12 ...      ham   \n",
       "\n",
       "                                             unified  \n",
       "0                      christmas tree farm pictures   \n",
       "1  vastar resources inc gary production high isla...  \n",
       "2  calpine daily gas nomination calpine daily gas...  \n",
       "3  issue fyi see note already done stella forward...  \n",
       "4  meter 7268 nov allocation fyi forwarded lauri ...  "
      ]
     },
     "execution_count": 39,
     "metadata": {},
     "output_type": "execute_result"
    }
   ],
   "source": [
    "enron_df.head()"
   ]
  },
  {
   "cell_type": "code",
   "execution_count": 55,
   "id": "bedc8a1c",
   "metadata": {},
   "outputs": [
    {
     "data": {
      "text/html": [
       "<div>\n",
       "<style scoped>\n",
       "    .dataframe tbody tr th:only-of-type {\n",
       "        vertical-align: middle;\n",
       "    }\n",
       "\n",
       "    .dataframe tbody tr th {\n",
       "        vertical-align: top;\n",
       "    }\n",
       "\n",
       "    .dataframe thead th {\n",
       "        text-align: right;\n",
       "    }\n",
       "</style>\n",
       "<table border=\"1\" class=\"dataframe\">\n",
       "  <thead>\n",
       "    <tr style=\"text-align: right;\">\n",
       "      <th></th>\n",
       "      <th>Message ID</th>\n",
       "      <th>Spam/Ham</th>\n",
       "      <th>unified</th>\n",
       "    </tr>\n",
       "  </thead>\n",
       "  <tbody>\n",
       "    <tr>\n",
       "      <th>0</th>\n",
       "      <td>0</td>\n",
       "      <td>ham</td>\n",
       "      <td>christmas tree farm pictures</td>\n",
       "    </tr>\n",
       "    <tr>\n",
       "      <th>1</th>\n",
       "      <td>1</td>\n",
       "      <td>ham</td>\n",
       "      <td>vastar resources inc gary production high isla...</td>\n",
       "    </tr>\n",
       "    <tr>\n",
       "      <th>2</th>\n",
       "      <td>2</td>\n",
       "      <td>ham</td>\n",
       "      <td>calpine daily gas nomination calpine daily gas...</td>\n",
       "    </tr>\n",
       "    <tr>\n",
       "      <th>3</th>\n",
       "      <td>3</td>\n",
       "      <td>ham</td>\n",
       "      <td>issue fyi see note already done stella forward...</td>\n",
       "    </tr>\n",
       "    <tr>\n",
       "      <th>4</th>\n",
       "      <td>4</td>\n",
       "      <td>ham</td>\n",
       "      <td>meter 7268 nov allocation fyi forwarded lauri ...</td>\n",
       "    </tr>\n",
       "  </tbody>\n",
       "</table>\n",
       "</div>"
      ],
      "text/plain": [
       "   Message ID Spam/Ham                                            unified\n",
       "0           0      ham                      christmas tree farm pictures \n",
       "1           1      ham  vastar resources inc gary production high isla...\n",
       "2           2      ham  calpine daily gas nomination calpine daily gas...\n",
       "3           3      ham  issue fyi see note already done stella forward...\n",
       "4           4      ham  meter 7268 nov allocation fyi forwarded lauri ..."
      ]
     },
     "execution_count": 55,
     "metadata": {},
     "output_type": "execute_result"
    }
   ],
   "source": [
    "enron_df_unified.head()"
   ]
  },
  {
   "cell_type": "markdown",
   "id": "dac5c87a",
   "metadata": {},
   "source": [
    "<h2>Analysis of cleaned data</h2>"
   ]
  },
  {
   "cell_type": "markdown",
   "id": "088e3872",
   "metadata": {},
   "source": [
    "<h3>Length of Spam / Ham messages</h3>"
   ]
  },
  {
   "cell_type": "code",
   "execution_count": 68,
   "id": "31b6d797",
   "metadata": {},
   "outputs": [
    {
     "name": "stdout",
     "output_type": "stream",
     "text": [
      "Length of the longest ham message is: 22726\n"
     ]
    }
   ],
   "source": [
    "enron_df_spam = enron_df_unified[enron_df_unified[\"Spam/Ham\"] == \"spam\"]\n",
    "print(\"Length of the longest ham message is:\", enron_df_spam.unified.str.len().max())"
   ]
  },
  {
   "cell_type": "code",
   "execution_count": 69,
   "id": "b691da57",
   "metadata": {},
   "outputs": [
    {
     "name": "stdout",
     "output_type": "stream",
     "text": [
      "Length of the longest spam message is: 160324\n"
     ]
    }
   ],
   "source": [
    "enron_df_ham = enron_df_unified[enron_df_unified[\"Spam/Ham\"] == \"ham\"]\n",
    "print(\"Length of the longest spam message is:\", enron_df_ham.unified.str.len().max())"
   ]
  },
  {
   "cell_type": "code",
   "execution_count": 70,
   "id": "f4e332f7",
   "metadata": {},
   "outputs": [
    {
     "name": "stdout",
     "output_type": "stream",
     "text": [
      "Length of the mean spam message is: 968.33\n"
     ]
    }
   ],
   "source": [
    "print(\"Length of the mean spam message is:\", round(enron_df_spam.unified.str.len().mean(),2 ))"
   ]
  },
  {
   "cell_type": "code",
   "execution_count": 71,
   "id": "f5a71fe7",
   "metadata": {},
   "outputs": [
    {
     "name": "stdout",
     "output_type": "stream",
     "text": [
      "Length of the mean ham message is: 1116.71\n"
     ]
    }
   ],
   "source": [
    "print(\"Length of the mean ham message is:\", round(enron_df_ham.unified.str.len().mean(),2))"
   ]
  },
  {
   "cell_type": "markdown",
   "id": "0a0bc45a",
   "metadata": {},
   "source": [
    "<h2>Distribution of Spam Message Length</h2>"
   ]
  },
  {
   "cell_type": "code",
   "execution_count": 97,
   "id": "fce5c0c1",
   "metadata": {},
   "outputs": [
    {
     "name": "stderr",
     "output_type": "stream",
     "text": [
      "/tmp/ipykernel_8476/2145000043.py:6: SettingWithCopyWarning: \n",
      "A value is trying to be set on a copy of a slice from a DataFrame.\n",
      "Try using .loc[row_indexer,col_indexer] = value instead\n",
      "\n",
      "See the caveats in the documentation: https://pandas.pydata.org/pandas-docs/stable/user_guide/indexing.html#returning-a-view-versus-a-copy\n",
      "  enron_df_spam.loc[:, \"length_range\"] = pd.cut(enron_df_spam[\"unified\"].str.len(), bins=bin_edges, labels=bin_labels)\n",
      "/tmp/ipykernel_8476/2145000043.py:6: DeprecationWarning: In a future version, `df.iloc[:, i] = newvals` will attempt to set the values inplace instead of always setting a new array. To retain the old behavior, use either `df[df.columns[i]] = newvals` or, if columns are non-unique, `df.isetitem(i, newvals)`\n",
      "  enron_df_spam.loc[:, \"length_range\"] = pd.cut(enron_df_spam[\"unified\"].str.len(), bins=bin_edges, labels=bin_labels)\n"
     ]
    }
   ],
   "source": [
    "# Define the bin edges for the message lengths\n",
    "bin_edges = range(0, 2501, 100)\n",
    "\n",
    "# Bin the message lengths into different ranges using the cut method\n",
    "bin_labels = [\"{}-{}\".format(start, end) for start, end in zip(bin_edges[:-1], bin_edges[1:])]\n",
    "enron_df_spam.loc[:, \"length_range\"] = pd.cut(enron_df_spam[\"unified\"].str.len(), bins=bin_edges, labels=bin_labels)"
   ]
  },
  {
   "cell_type": "code",
   "execution_count": 99,
   "id": "48db7903",
   "metadata": {},
   "outputs": [
    {
     "data": {
      "image/png": "[encoded data removed]",
      "text/plain": [
       "<Figure size 1000x600 with 1 Axes>"
      ]
     },
     "metadata": {},
     "output_type": "display_data"
    }
   ],
   "source": [
    "length_counts = enron_df_spam[\"length_range\"].value_counts()\n",
    "\n",
    "# Divide by the total number of spam messages to get the percentage\n",
    "length_percents = length_counts / len(enron_df_spam) * 100\n",
    "\n",
    "# Sort the length_percents Series by its index\n",
    "length_percents_sorted = length_percents.sort_index()\n",
    "length_percents_sorted[\"2500+\"] = (enron_df_spam[\"unified\"].str.len() > 2500).sum() / len(enron_df_spam) * 100\n",
    "length_percents_sorted.plot(kind=\"bar\", rot=90, figsize=(10, 6), fontsize=12)\n",
    "plt.xlabel(\"Spam Message Length Range\", fontsize=14)\n",
    "plt.ylabel(\"Percentage of Spam Messages\", fontsize=14)\n",
    "plt.title(\"Percentage of Spam Messages in Different Length Ranges\", fontsize=16)\n",
    "plt.show()"
   ]
  },
  {
   "cell_type": "code",
   "execution_count": 102,
   "id": "d4d2f65c",
   "metadata": {},
   "outputs": [
    {
     "name": "stderr",
     "output_type": "stream",
     "text": [
      "/tmp/ipykernel_8476/511611452.py:6: SettingWithCopyWarning: \n",
      "A value is trying to be set on a copy of a slice from a DataFrame.\n",
      "Try using .loc[row_indexer,col_indexer] = value instead\n",
      "\n",
      "See the caveats in the documentation: https://pandas.pydata.org/pandas-docs/stable/user_guide/indexing.html#returning-a-view-versus-a-copy\n",
      "  enron_df_ham.loc[:, \"length_range\"] = pd.cut(enron_df_ham[\"unified\"].str.len(), bins=bin_edges, labels=bin_labels)\n",
      "/tmp/ipykernel_8476/511611452.py:6: DeprecationWarning: In a future version, `df.iloc[:, i] = newvals` will attempt to set the values inplace instead of always setting a new array. To retain the old behavior, use either `df[df.columns[i]] = newvals` or, if columns are non-unique, `df.isetitem(i, newvals)`\n",
      "  enron_df_ham.loc[:, \"length_range\"] = pd.cut(enron_df_ham[\"unified\"].str.len(), bins=bin_edges, labels=bin_labels)\n"
     ]
    }
   ],
   "source": [
    "# Define the bin edges for the message lengths\n",
    "bin_edges = range(0, 2501, 100)\n",
    "\n",
    "# Bin the message lengths into different ranges using the cut method\n",
    "bin_labels = [\"{}-{}\".format(start, end) for start, end in zip(bin_edges[:-1], bin_edges[1:])]\n",
    "enron_df_ham.loc[:, \"length_range\"] = pd.cut(enron_df_ham[\"unified\"].str.len(), bins=bin_edges, labels=bin_labels)"
   ]
  },
  {
   "cell_type": "code",
   "execution_count": 103,
   "id": "a05612fe",
   "metadata": {},
   "outputs": [
    {
     "data": {
      "image/png": "[encoded data removed]",
      "text/plain": [
       "<Figure size 1000x600 with 1 Axes>"
      ]
     },
     "metadata": {},
     "output_type": "display_data"
    }
   ],
   "source": [
    "length_counts = enron_df_ham[\"length_range\"].value_counts()\n",
    "\n",
    "# Divide by the total number of spam messages to get the percentage\n",
    "length_percents = length_counts / len(enron_df_ham) * 100\n",
    "\n",
    "# Sort the length_percents Series by its index\n",
    "length_percents_sorted = length_percents.sort_index()\n",
    "length_percents_sorted[\"2500+\"] = (enron_df_ham[\"unified\"].str.len() > 2500).sum() / len(enron_df_ham) * 100\n",
    "length_percents_sorted.plot(kind=\"bar\", rot=90, figsize=(10, 6), fontsize=12)\n",
    "plt.xlabel(\"Spam Message Length Range\", fontsize=14)\n",
    "plt.ylabel(\"Percentage of Spam Messages\", fontsize=14)\n",
    "plt.title(\"Percentage of Spam Messages in Different Length Ranges\", fontsize=16)\n",
    "plt.show()"
   ]
  },
  {
   "cell_type": "code",
   "execution_count": null,
   "id": "584404b9",
   "metadata": {},
   "outputs": [],
   "source": []
  },
  {
   "cell_type": "markdown",
   "id": "195a2861",
   "metadata": {},
   "source": [
    "<h3>Wordcloud</h3>"
   ]
  },
  {
   "cell_type": "code",
   "execution_count": null,
   "id": "a173961e",
   "metadata": {},
   "outputs": [],
   "source": []
  },
  {
   "cell_type": "code",
   "execution_count": null,
   "id": "acb84e5f",
   "metadata": {},
   "outputs": [],
   "source": []
  },
  {
   "cell_type": "code",
   "execution_count": null,
   "id": "4021143d",
   "metadata": {},
   "outputs": [],
   "source": []
  },
  {
   "cell_type": "code",
   "execution_count": null,
   "id": "fab92254",
   "metadata": {},
   "outputs": [],
   "source": []
  },
  {
   "cell_type": "code",
   "execution_count": null,
   "id": "81da63db",
   "metadata": {},
   "outputs": [],
   "source": []
  },
  {
   "cell_type": "code",
   "execution_count": null,
   "id": "08fc51c7",
   "metadata": {},
   "outputs": [],
   "source": []
  },
  {
   "cell_type": "code",
   "execution_count": null,
   "id": "35115a22",
   "metadata": {},
   "outputs": [],
   "source": [
    "na_rows = enron_df_unified[enron_df_unified['Spam/Ham'].isna() | (enron_df_unified['Spam/Ham'] == ' ')]\n",
    "print(na_rows)"
   ]
  },
  {
   "cell_type": "markdown",
   "id": "877f9479",
   "metadata": {},
   "source": [
    "As a last step, I decide to randomlay arrange the order of rows, so there is no bias: "
   ]
  },
  {
   "cell_type": "code",
   "execution_count": null,
   "id": "987f7f9a",
   "metadata": {},
   "outputs": [],
   "source": [
    "enron_df_unified = enron_df_unified.sample(frac=1)"
   ]
  },
  {
   "cell_type": "code",
   "execution_count": null,
   "id": "c5bcf0e6",
   "metadata": {},
   "outputs": [],
   "source": [
    "enron_df_nb = enron_df_unified.copy()\n",
    "enron_df_bl = enron_df_unified.copy()\n",
    "enron_df_lsh = enron_df_unified.copy()"
   ]
  },
  {
   "cell_type": "markdown",
   "id": "3cbff27c",
   "metadata": {},
   "source": [
    "At this point, our dataframe is ready to be analyzed. We can begin with the training using the enron_df_uniied df. "
   ]
  },
  {
   "cell_type": "markdown",
   "id": "f5f88b6b",
   "metadata": {},
   "source": [
    "<h2>Naive Bayes Filter</h2>"
   ]
  },
  {
   "cell_type": "markdown",
   "id": "2471bc2a",
   "metadata": {},
   "source": [
    "We will start with the Naive Bayes Filter. In this stage we start to analyze firstly our unified version of the subject and the E-Mail body. \n",
    "\n",
    "Later we take a look how well this Bayes Filter works, when we analyze the Subject Line and the E-Mail body separatly.\n",
    "\n",
    "Lastly I use a different way to implement the Bayes Filter that I found online: the description can be found here: https://www.kdnuggets.com/2020/07/spam-filter-python-naive-bayes-scratch.html"
   ]
  },
  {
   "cell_type": "code",
   "execution_count": null,
   "id": "cd049978",
   "metadata": {},
   "outputs": [],
   "source": [
    "training_ratio = 0.7"
   ]
  },
  {
   "cell_type": "markdown",
   "id": "4efce3cd",
   "metadata": {},
   "source": [
    "<h3>Unified Subject Line and E-Mail Body</h3>"
   ]
  },
  {
   "cell_type": "code",
   "execution_count": null,
   "id": "569e7ec2",
   "metadata": {},
   "outputs": [],
   "source": [
    "X_unified = enron_df_nb['unified']\n",
    "y_unified = enron_df_nb['Spam/Ham']\n",
    "X_train, X_test, y_train, y_test, idx_train, idx_test = \\\n",
    "    train_test_split(X_unified, y_unified, range(len(y_unified)), \n",
    "    train_size=training_ratio, random_state=1)\n",
    "\n",
    "vectorizer = CountVectorizer()\n",
    "X_train_vector = vectorizer.fit_transform(X_train)\n",
    "X_test_vector = vectorizer.transform(X_test)\n",
    "\n",
    "mnb = MultinomialNB()\n",
    "mnb.fit(X_train_vector, y_train)\n",
    "y_pred = mnb.predict(X_test_vector)\n",
    "\n",
    "results_df = pd.concat([y_test.reset_index(drop=True), pd.Series(y_pred)], axis=1, keys=['true', 'predicted'])\n",
    "\n",
    "print(classification_report(y_test, y_pred, target_names=['Spam', 'Ham']))\n",
    "print('Classification accuracy {:.1%}'.format(accuracy_score(y_test, y_pred)))"
   ]
  },
  {
   "cell_type": "code",
   "execution_count": null,
   "id": "32aa3ed3",
   "metadata": {},
   "outputs": [],
   "source": [
    "wrong_predictions = 0\n",
    "for i, row in results_df.iterrows():\n",
    "    if row['true'] != row['predicted']:\n",
    "        print(f\"Predicted: {row['predicted']}, True: {row['true']},\\nText: {X_test.iloc[i]}\\n\")\n",
    "        wrong_predictions += 1"
   ]
  },
  {
   "cell_type": "code",
   "execution_count": null,
   "id": "578ed279",
   "metadata": {},
   "outputs": [],
   "source": [
    "print(f\"Number of wrong predictions: {wrong_predictions}\")"
   ]
  },
  {
   "cell_type": "markdown",
   "id": "5f91df4c",
   "metadata": {},
   "source": [
    "<h1>#########NOTE: NEED TO ANALYZE THIS NOW</h1>"
   ]
  },
  {
   "cell_type": "markdown",
   "id": "92b0ee5a",
   "metadata": {},
   "source": [
    "<h3>Analyzing only the subject line</h3>"
   ]
  },
  {
   "cell_type": "markdown",
   "id": "4e626b8e",
   "metadata": {},
   "source": [
    "Let us now try to analyze what happens if we only observe the Subject headers. How does this affect the Spam detection accuracy?\n",
    "\n",
    "My suspicion is, that this will lower the recognition rate of Spam significantly. I even suspect it will make the Spam Filter completly worthless, with possible prediction rates approach 60% or less."
   ]
  },
  {
   "cell_type": "code",
   "execution_count": null,
   "id": "8b2aef20",
   "metadata": {},
   "outputs": [],
   "source": [
    "subject_NaN = enron_df['Subject'].isna().sum()\n",
    "subject_empty = (enron_df['Subject'] == ' ').sum()\n",
    "\n",
    "print(subject_NaN)\n",
    "print(subject_empty)"
   ]
  },
  {
   "cell_type": "code",
   "execution_count": null,
   "id": "94d023a2",
   "metadata": {},
   "outputs": [],
   "source": [
    "X_subject = enron_df['Subject']\n",
    "y_subject = enron_df['Spam/Ham']\n",
    "X_train, X_test, y_train, y_test, idx_train, idx_test = \\\n",
    "    train_test_split(X_subject, y_subject, range(len(y_unified)), \n",
    "    train_size=training_ratio, random_state=1)\n",
    "\n",
    "vectorizer = CountVectorizer()\n",
    "X_train_vector = vectorizer.fit_transform(X_train)\n",
    "X_test_vector = vectorizer.transform(X_test)\n",
    "\n",
    "mnb = MultinomialNB()\n",
    "mnb.fit(X_train_vector, y_train)\n",
    "y_pred = mnb.predict(X_test_vector)\n",
    "\n",
    "results_df = pd.concat([y_test.reset_index(drop=True), pd.Series(y_pred)], axis=1, keys=['true', 'predicted'])\n",
    "\n",
    "print(classification_report(y_test, y_pred, target_names=['Spam', 'Ham']))\n",
    "print('Classification accuracy {:.1%}'.format(accuracy_score(y_test, y_pred)))"
   ]
  },
  {
   "cell_type": "markdown",
   "id": "9f4507b1",
   "metadata": {},
   "source": [
    "As we can see, even when only anayzing the subject line it can still reach a correct predicition of 90.3%, which is not great but still much better than expected. Still quite useless though and it confirms the suspicion that only using the Subject Line to analyze Spam is definitly not enough."
   ]
  },
  {
   "cell_type": "code",
   "execution_count": null,
   "id": "cc7be839",
   "metadata": {},
   "outputs": [],
   "source": [
    "wrong_predictions = 0\n",
    "for i, row in results_df.iterrows():\n",
    "    if row['true'] != row['predicted']:\n",
    "        print(f\"Predicted: {row['predicted']}, True: {row['true']},\\nText: {X_test.iloc[i]}\\n\")\n",
    "        wrong_predictions += 1"
   ]
  },
  {
   "cell_type": "code",
   "execution_count": null,
   "id": "b7cb28c9",
   "metadata": {},
   "outputs": [],
   "source": [
    "print(f\"Number of wrong predictions: {wrong_predictions}\")"
   ]
  },
  {
   "cell_type": "markdown",
   "id": "79c85118",
   "metadata": {},
   "source": [
    "<h3>Analyzing only the E-Mail Body</h3>"
   ]
  },
  {
   "cell_type": "markdown",
   "id": "6e164b93",
   "metadata": {},
   "source": [
    "Now lets try the same with only the message body and see how much effect the Subject has on the Spam detection. "
   ]
  },
  {
   "cell_type": "code",
   "execution_count": null,
   "id": "ad6277f7",
   "metadata": {},
   "outputs": [],
   "source": [
    "X_body = enron_df['Message']\n",
    "y_body = enron_df['Spam/Ham']\n",
    "X_train, X_test, y_train, y_test, idx_train, idx_test = \\\n",
    "    train_test_split(X_body, y_body, range(len(y_unified)), \n",
    "    train_size=training_ratio, random_state=1)\n",
    "\n",
    "vectorizer = CountVectorizer()\n",
    "X_train_vector = vectorizer.fit_transform(X_train)\n",
    "X_test_vector = vectorizer.transform(X_test)\n",
    "\n",
    "mnb = MultinomialNB()\n",
    "mnb.fit(X_train_vector, y_train)\n",
    "y_pred = mnb.predict(X_test_vector)\n",
    "\n",
    "results_df = pd.concat([y_test.reset_index(drop=True), pd.Series(y_pred)], axis=1, keys=['true', 'predicted'])\n",
    "\n",
    "print(classification_report(y_test, y_pred, target_names=['Spam', 'Ham']))\n",
    "print('Classification accuracy {:.1%}'.format(accuracy_score(y_test, y_pred)))"
   ]
  },
  {
   "cell_type": "markdown",
   "id": "fbcf8125",
   "metadata": {},
   "source": [
    "It has 98.4%! This is quite good. But still less than the unification of the body and the Subject. Therefore it makes sense to use the first method which unfies both Subject Line and E-Mail body. \n",
    "\n",
    "For future analysis and representation, only the first analysis type will be considered"
   ]
  },
  {
   "cell_type": "markdown",
   "id": "58a01091",
   "metadata": {},
   "source": [
    "<h2>############### TO DO Blacklisting --> Need to randomize order of files</h2>"
   ]
  },
  {
   "cell_type": "code",
   "execution_count": null,
   "id": "aff9fef6",
   "metadata": {},
   "outputs": [],
   "source": [
    "X_train_bl = enron_df_bl[:int(len(enron_df_bl)*training_ratio)]\n",
    "X_test_bl = enron_df_bl[int(len(enron_df_bl)*training_ratio):]\n",
    "x_train_Spam_bl = enron_df_bl['Spam/Ham']\n",
    "stemmer = nltk.PorterStemmer()\n",
    "stopwords = set(nltk.corpus.stopwords.words('english'))\n",
    "spam_words = set()\n",
    "ham_words = set()\n",
    "\n",
    "\n",
    "for _, row in X_train_bl.iterrows():\n",
    "    path = row['unified']\n",
    "    label = row['Spam/Ham']\n",
    "    tokens = nltk.word_tokenize(path)\n",
    "    if len(tokens) > 2:\n",
    "        stems = [stemmer.stem(w) for w in tokens if w not in stopwords]\n",
    "    if not stems:\n",
    "        continue\n",
    "    if label == 'ham':\n",
    "        ham_words.update(stems)\n",
    "    elif label == 'spam':\n",
    "        spam_words.update(stems)\n",
    "    else:\n",
    "        continue\n",
    "\n",
    "blacklist = spam_words - ham_words\n",
    "pickle.dump(blacklist, open('blacklist.pkl', 'wb'))\n",
    "\n",
    "print(len(spam_words))\n",
    "print(len(ham_words))\n",
    "print('Blacklist of {} tokens successfully built/loaded'.format(len(blacklist)))"
   ]
  },
  {
   "cell_type": "code",
   "execution_count": null,
   "id": "f1101b1b",
   "metadata": {},
   "outputs": [],
   "source": [
    "word_set = set(words.words()) \n",
    "word_set.intersection(blacklist)"
   ]
  },
  {
   "cell_type": "code",
   "execution_count": null,
   "id": "690c2802",
   "metadata": {},
   "outputs": [],
   "source": [
    "fp = 0\n",
    "tp = 0\n",
    "fn = 0\n",
    "tn = 0\n",
    "\n",
    "for _, row in X_test_bl.iterrows():\n",
    "    path = row['unified']\n",
    "    label = row['Spam/Ham']\n",
    "    tokens = nltk.word_tokenize(path)\n",
    "    if len(tokens) > 2:\n",
    "        stems = [stemmer.stem(w) for w in tokens if w not in stopwords]\n",
    "    if not stems:\n",
    "        continue\n",
    "    stems_set = set(stems)\n",
    "    if stems_set & blacklist: # email's words are in blacklist\n",
    "        if label == 'ham': # ham\n",
    "            fp = fp + 1 \n",
    "        else:\n",
    "            tp = tp + 1\n",
    "    else: # email's words are not in blacklist\n",
    "        if label == 'ham':\n",
    "            tn = tn + 1\n",
    "        else:\n",
    "            fn = fn + 1"
   ]
  },
  {
   "cell_type": "code",
   "execution_count": null,
   "id": "63370a58",
   "metadata": {},
   "outputs": [],
   "source": [
    "conf_matrix = [[tn, fp],\n",
    "               [fn, tp]]\n",
    "display(HTML('<table><tr>{}</tr></table>'.format(\n",
    "    '</tr><tr>'.join('<td>{}</td>'.format(\n",
    "        '</td><td>'.join(str(_) for _ in row)) \n",
    "                     for row in conf_matrix))))"
   ]
  },
  {
   "cell_type": "code",
   "execution_count": null,
   "id": "aa4f5d9e",
   "metadata": {},
   "outputs": [],
   "source": [
    "count = tn + tp + fn + fp\n",
    "percent_matrix = [[\"{:.1%}\".format(tn/count), \"{:.1%}\".format(fp/count)],\n",
    "                  [\"{:.1%}\".format(fn/count), \"{:.1%}\".format(tp/count)]]\n",
    "display(HTML('<table><tr>{}</tr></table>'.format(\n",
    "    '</tr><tr>'.join('<td>{}</td>'.format(\n",
    "        '</td><td>'.join(str(_) for _ in row)) \n",
    "                     for row in percent_matrix))))"
   ]
  },
  {
   "cell_type": "code",
   "execution_count": null,
   "id": "02b93a8d",
   "metadata": {},
   "outputs": [],
   "source": [
    "print(\"Classification accuracy: {}\".format(\"{:.1%}\".format((tp+tn)/count)))"
   ]
  },
  {
   "cell_type": "markdown",
   "id": "81b2d1cb",
   "metadata": {},
   "source": [
    "<h2>LSH ####################### fix classification accuracy</h2>"
   ]
  },
  {
   "cell_type": "code",
   "execution_count": null,
   "id": "dae0ec6d",
   "metadata": {},
   "outputs": [],
   "source": [
    "X_train_lsh = enron_df_lsh[:int(len(enron_df_lsh)*training_ratio)]\n",
    "X_test_lsh = enron_df_lsh[int(len(enron_df_lsh)*training_ratio):]\n",
    "X_spam_files = X_train_lsh[X_train_lsh['Spam/Ham'] == 'spam']"
   ]
  },
  {
   "cell_type": "code",
   "execution_count": null,
   "id": "7dbee607",
   "metadata": {},
   "outputs": [],
   "source": [
    "X_spam_files.head()"
   ]
  },
  {
   "cell_type": "code",
   "execution_count": null,
   "id": "4bbc600c",
   "metadata": {},
   "outputs": [],
   "source": [
    "lsh = MinHashLSH(threshold=0.5, num_perm=128)"
   ]
  },
  {
   "cell_type": "code",
   "execution_count": null,
   "id": "1fa6845f",
   "metadata": {},
   "outputs": [],
   "source": [
    "for idx, row in X_spam_files.iterrows():\n",
    "    minhash = MinHash(num_perm=128)\n",
    "    path = row['unified']\n",
    "    tokens = nltk.word_tokenize(path)\n",
    "    stems = [stemmer.stem(w) for w in tokens if w not in stopwords]\n",
    "    if len(stems) < 2: continue\n",
    "    for s in stems:\n",
    "        minhash.update(s.encode('utf-8'))\n",
    "    key = str(row['Message ID'])\n",
    "    lsh.insert(key, minhash)"
   ]
  },
  {
   "cell_type": "code",
   "execution_count": null,
   "id": "086236b1",
   "metadata": {},
   "outputs": [],
   "source": [
    "def lsh_predict_label(stems):\n",
    "    '''\n",
    "    Queries the LSH matcher and returns:\n",
    "        'spam' if predicted spam\n",
    "        'ham' if predicted ham\n",
    "       -1 if parsing error\n",
    "    '''\n",
    "    minhash = MinHash(num_perm=128)\n",
    "    if len(stems) < 2:\n",
    "        return -1\n",
    "    for s in stems:\n",
    "        minhash.update(s.encode('utf-8'))\n",
    "    matches = lsh.query(minhash)\n",
    "    if matches:\n",
    "        return 'spam'\n",
    "    else:\n",
    "        return 'ham'"
   ]
  },
  {
   "cell_type": "code",
   "execution_count": null,
   "id": "999441fd",
   "metadata": {},
   "outputs": [],
   "source": [
    "fp = 0\n",
    "tp = 0\n",
    "fn = 0\n",
    "tn = 0\n",
    "false_negatives = []\n",
    "true_negatives = []\n",
    "false_positives = []\n",
    "true_positives = []\n",
    "\n",
    "for f, row in X_test_lsh.iterrows():\n",
    "    label = row['Spam/Ham']\n",
    "    path = row['unified']\n",
    "    message_id = row['Message ID']\n",
    "    tokens = nltk.word_tokenize(path)\n",
    "    if not tokens:\n",
    "        continue\n",
    "    stems = [stemmer.stem(w) for w in tokens if w not in stopwords]\n",
    "    if not stems:\n",
    "        continue\n",
    "    pred = lsh_predict_label(stems)\n",
    "    if pred == -1:\n",
    "        continue\n",
    "    elif pred == 'spam': # predicted spam\n",
    "        if label == 'ham':\n",
    "            fp = fp + 1\n",
    "            false_positives.append((message_id, pred, label, path))\n",
    "        else:\n",
    "            tp = tp + 1\n",
    "            true_positives.append((message_id, pred, label, path))\n",
    "    elif pred == 'ham': # predicted ham\n",
    "        if label == 'ham':\n",
    "            tn = tn + 1\n",
    "            if(len(true_negatives) < 50):\n",
    "                true_negatives.append((message_id, pred, label, path))\n",
    "        else:\n",
    "            fn = fn + 1\n",
    "            if(len(false_negatives) < 20):\n",
    "                false_negatives.append((message_id, pred, label, path))"
   ]
  },
  {
   "cell_type": "code",
   "execution_count": null,
   "id": "6a2a3e7f",
   "metadata": {},
   "outputs": [],
   "source": [
    "from IPython.display import HTML, display\n",
    "conf_matrix = [[tn, fp],\n",
    "               [fn, tp]]\n",
    "display(HTML('<table><tr>{}</tr></table>'.format(\n",
    "    '</tr><tr>'.join('<td>{}</td>'.format(\n",
    "        '</td><td>'.join(str(_) for _ in row)) \n",
    "                     for row in conf_matrix))))"
   ]
  },
  {
   "cell_type": "code",
   "execution_count": null,
   "id": "ca433a8a",
   "metadata": {},
   "outputs": [],
   "source": [
    "count = tn + tp + fn + fp\n",
    "percent_matrix = [[\"{:.1%}\".format(tn/count), \"{:.1%}\".format(fp/count)],\n",
    "                  [\"{:.1%}\".format(fn/count), \"{:.1%}\".format(tp/count)]]\n",
    "display(HTML('<table><tr>{}</tr></table>'.format(\n",
    "    '</tr><tr>'.join('<td>{}</td>'.format(\n",
    "        '</td><td>'.join(str(_) for _ in row)) \n",
    "                     for row in percent_matrix))))"
   ]
  },
  {
   "cell_type": "code",
   "execution_count": null,
   "id": "8b2445aa",
   "metadata": {},
   "outputs": [],
   "source": [
    "print(\"Classification accuracy: {}\".format(\"{:.1%}\".format((tp+tn)/count)))"
   ]
  },
  {
   "cell_type": "code",
   "execution_count": null,
   "id": "8177f51f",
   "metadata": {},
   "outputs": [],
   "source": [
    "print(X_test_lsh[X_test_lsh['Message ID'] == 13980])"
   ]
  },
  {
   "cell_type": "code",
   "execution_count": null,
   "id": "adab9cef",
   "metadata": {},
   "outputs": [],
   "source": []
  },
  {
   "cell_type": "code",
   "execution_count": null,
   "id": "90b53a42",
   "metadata": {},
   "outputs": [],
   "source": []
  },
  {
   "cell_type": "code",
   "execution_count": null,
   "id": "802f19b3",
   "metadata": {},
   "outputs": [],
   "source": []
  }
 ],
 "metadata": {
  "kernelspec": {
   "display_name": "Python 3 (ipykernel)",
   "language": "python",
   "name": "python3"
  },
  "language_info": {
   "codemirror_mode": {
    "name": "ipython",
    "version": 3
   },
   "file_extension": ".py",
   "mimetype": "text/x-python",
   "name": "python",
   "nbconvert_exporter": "python",
   "pygments_lexer": "ipython3",
   "version": "3.8.0"
  }
 },
 "nbformat": 4,
 "nbformat_minor": 5
}
